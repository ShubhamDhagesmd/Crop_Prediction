{
 "cells": [
  {
   "cell_type": "code",
   "execution_count": 30,
   "id": "45d146ef",
   "metadata": {},
   "outputs": [],
   "source": [
    "import numpy as np\n",
    "import pandas as pd\n",
    "import matplotlib.pyplot as plt"
   ]
  },
  {
   "cell_type": "code",
   "execution_count": 31,
   "id": "5808ada6",
   "metadata": {},
   "outputs": [],
   "source": [
    "# Lists for save accuracy of our Logistic Model and Support Vector Machine Model.\n",
    "acc = []\n",
    "models = []"
   ]
  },
  {
   "cell_type": "code",
   "execution_count": 32,
   "id": "745133d5",
   "metadata": {},
   "outputs": [],
   "source": [
    "# Reading a CSV file\n",
    "crop_df = pd.read_csv('Crop_recommendation.csv')"
   ]
  },
  {
   "cell_type": "code",
   "execution_count": 33,
   "id": "7eeac433",
   "metadata": {},
   "outputs": [
    {
     "data": {
      "text/html": [
       "<div>\n",
       "<style scoped>\n",
       "    .dataframe tbody tr th:only-of-type {\n",
       "        vertical-align: middle;\n",
       "    }\n",
       "\n",
       "    .dataframe tbody tr th {\n",
       "        vertical-align: top;\n",
       "    }\n",
       "\n",
       "    .dataframe thead th {\n",
       "        text-align: right;\n",
       "    }\n",
       "</style>\n",
       "<table border=\"1\" class=\"dataframe\">\n",
       "  <thead>\n",
       "    <tr style=\"text-align: right;\">\n",
       "      <th></th>\n",
       "      <th>N</th>\n",
       "      <th>P</th>\n",
       "      <th>K</th>\n",
       "      <th>temperature</th>\n",
       "      <th>humidity</th>\n",
       "      <th>ph</th>\n",
       "      <th>rainfall</th>\n",
       "      <th>label</th>\n",
       "      <th>no_label</th>\n",
       "    </tr>\n",
       "  </thead>\n",
       "  <tbody>\n",
       "    <tr>\n",
       "      <th>0</th>\n",
       "      <td>90</td>\n",
       "      <td>42</td>\n",
       "      <td>43</td>\n",
       "      <td>20.879744</td>\n",
       "      <td>82.002744</td>\n",
       "      <td>6.502985</td>\n",
       "      <td>202.935536</td>\n",
       "      <td>rice</td>\n",
       "      <td>20</td>\n",
       "    </tr>\n",
       "    <tr>\n",
       "      <th>1</th>\n",
       "      <td>85</td>\n",
       "      <td>58</td>\n",
       "      <td>41</td>\n",
       "      <td>21.770462</td>\n",
       "      <td>80.319644</td>\n",
       "      <td>7.038096</td>\n",
       "      <td>226.655537</td>\n",
       "      <td>rice</td>\n",
       "      <td>20</td>\n",
       "    </tr>\n",
       "    <tr>\n",
       "      <th>2</th>\n",
       "      <td>60</td>\n",
       "      <td>55</td>\n",
       "      <td>44</td>\n",
       "      <td>23.004459</td>\n",
       "      <td>82.320763</td>\n",
       "      <td>7.840207</td>\n",
       "      <td>263.964248</td>\n",
       "      <td>rice</td>\n",
       "      <td>20</td>\n",
       "    </tr>\n",
       "    <tr>\n",
       "      <th>3</th>\n",
       "      <td>74</td>\n",
       "      <td>35</td>\n",
       "      <td>40</td>\n",
       "      <td>26.491096</td>\n",
       "      <td>80.158363</td>\n",
       "      <td>6.980401</td>\n",
       "      <td>242.864034</td>\n",
       "      <td>rice</td>\n",
       "      <td>20</td>\n",
       "    </tr>\n",
       "    <tr>\n",
       "      <th>4</th>\n",
       "      <td>78</td>\n",
       "      <td>42</td>\n",
       "      <td>42</td>\n",
       "      <td>20.130175</td>\n",
       "      <td>81.604873</td>\n",
       "      <td>7.628473</td>\n",
       "      <td>262.717340</td>\n",
       "      <td>rice</td>\n",
       "      <td>20</td>\n",
       "    </tr>\n",
       "  </tbody>\n",
       "</table>\n",
       "</div>"
      ],
      "text/plain": [
       "    N   P   K  temperature   humidity        ph    rainfall label  no_label\n",
       "0  90  42  43    20.879744  82.002744  6.502985  202.935536  rice        20\n",
       "1  85  58  41    21.770462  80.319644  7.038096  226.655537  rice        20\n",
       "2  60  55  44    23.004459  82.320763  7.840207  263.964248  rice        20\n",
       "3  74  35  40    26.491096  80.158363  6.980401  242.864034  rice        20\n",
       "4  78  42  42    20.130175  81.604873  7.628473  262.717340  rice        20"
      ]
     },
     "execution_count": 33,
     "metadata": {},
     "output_type": "execute_result"
    }
   ],
   "source": [
    "# Make new column no_label to give numbers to our actual dependent variable.\n",
    "crop_df['no_label'] = pd.Categorical(crop_df.label).codes\n",
    "crop_df.head()"
   ]
  },
  {
   "cell_type": "code",
   "execution_count": 34,
   "id": "0c819edd",
   "metadata": {},
   "outputs": [
    {
     "data": {
      "text/plain": [
       "N                int64\n",
       "P                int64\n",
       "K                int64\n",
       "temperature    float64\n",
       "humidity       float64\n",
       "ph             float64\n",
       "rainfall       float64\n",
       "label           object\n",
       "no_label          int8\n",
       "dtype: object"
      ]
     },
     "execution_count": 34,
     "metadata": {},
     "output_type": "execute_result"
    }
   ],
   "source": [
    "# Check data types of columns\n",
    "crop_df.dtypes"
   ]
  },
  {
   "cell_type": "code",
   "execution_count": 35,
   "id": "37bda121",
   "metadata": {},
   "outputs": [
    {
     "data": {
      "text/plain": [
       "Index(['N', 'P', 'K', 'temperature', 'humidity', 'ph', 'rainfall', 'label',\n",
       "       'no_label'],\n",
       "      dtype='object')"
      ]
     },
     "execution_count": 35,
     "metadata": {},
     "output_type": "execute_result"
    }
   ],
   "source": [
    "# Change Datatype of no_label from int8 to int 64\n",
    "crop_df['no_label'] = crop_df.no_label.astype('int64')\n",
    "crop_df.columns"
   ]
  },
  {
   "cell_type": "code",
   "execution_count": 36,
   "id": "3632f585",
   "metadata": {},
   "outputs": [],
   "source": [
    "# Make dictionary of labels and its asociative number.\n",
    "l = dict(zip(crop_df.no_label.unique(),crop_df.label.unique()))"
   ]
  },
  {
   "cell_type": "code",
   "execution_count": 37,
   "id": "730bca9f",
   "metadata": {},
   "outputs": [],
   "source": [
    "# Create independent and dependent variables\n",
    "\n",
    "# Independent Variable\n",
    "features = crop_df[['N', 'P', 'K', 'temperature', 'humidity', 'ph', 'rainfall']]\n",
    "\n",
    "# Dependent Variable\n",
    "target = crop_df.no_label"
   ]
  },
  {
   "cell_type": "code",
   "execution_count": 38,
   "id": "9a1c23ce",
   "metadata": {},
   "outputs": [],
   "source": [
    "# import train_test_split model from sklearn\n",
    "from sklearn.model_selection import train_test_split"
   ]
  },
  {
   "cell_type": "code",
   "execution_count": 39,
   "id": "9a32e34c",
   "metadata": {},
   "outputs": [],
   "source": [
    "# To get a good prediction, divide the data into training and testing data, it is because as the name suggests you will train few data points and test few data points, and keep on doing that unless you get good results.\n",
    "\n",
    "X_train,X_test,y_train,y_test = train_test_split(features,target,test_size=0.2,random_state=2)"
   ]
  },
  {
   "cell_type": "code",
   "execution_count": 40,
   "id": "10261e62",
   "metadata": {},
   "outputs": [],
   "source": [
    "# import logistic regression classifier\n",
    "from sklearn.linear_model import LogisticRegression"
   ]
  },
  {
   "cell_type": "code",
   "execution_count": 41,
   "id": "86e82a13",
   "metadata": {},
   "outputs": [
    {
     "name": "stderr",
     "output_type": "stream",
     "text": [
      "C:\\Users\\SHUBHAM\\appdata\\local\\programs\\python\\python38\\lib\\site-packages\\sklearn\\linear_model\\_logistic.py:814: ConvergenceWarning: lbfgs failed to converge (status=1):\n",
      "STOP: TOTAL NO. of ITERATIONS REACHED LIMIT.\n",
      "\n",
      "Increase the number of iterations (max_iter) or scale the data as shown in:\n",
      "    https://scikit-learn.org/stable/modules/preprocessing.html\n",
      "Please also refer to the documentation for alternative solver options:\n",
      "    https://scikit-learn.org/stable/modules/linear_model.html#logistic-regression\n",
      "  n_iter_i = _check_optimize_result(\n"
     ]
    },
    {
     "data": {
      "text/plain": [
       "LogisticRegression()"
      ]
     },
     "execution_count": 41,
     "metadata": {},
     "output_type": "execute_result"
    }
   ],
   "source": [
    "# This is one of the most important because this is where we apply the Logistic regression algorithm, to do this we have to feed the trained the tested values to the actual algorithm, by doing so we can predict the subscribers. To do this follow the below code:\n",
    "\n",
    "log_reg = LogisticRegression()\n",
    "log_reg.fit(X_train,y_train)"
   ]
  },
  {
   "cell_type": "code",
   "execution_count": 42,
   "id": "5a2f9808",
   "metadata": {},
   "outputs": [],
   "source": [
    "#Here in the above code, we are calling the Logistic Regression function and then we are trying to fit the model by-passing the trained values.\n",
    "\n",
    "predicted_val = log_reg.predict(X_test)"
   ]
  },
  {
   "cell_type": "code",
   "execution_count": 43,
   "id": "4a0d95b0",
   "metadata": {},
   "outputs": [],
   "source": [
    "# Now we create our model and train it. So we can check accuracy of our Logistic Regression Model\n",
    "from sklearn import metrics"
   ]
  },
  {
   "cell_type": "code",
   "execution_count": 44,
   "id": "384f164c",
   "metadata": {},
   "outputs": [
    {
     "name": "stdout",
     "output_type": "stream",
     "text": [
      "Logistic Regression's Accuracy is:  0.9522727272727273\n"
     ]
    }
   ],
   "source": [
    "# Code for check accuracy\n",
    "x = metrics.accuracy_score(y_test, predicted_val)\n",
    "acc.append(x)\n",
    "models.append('Logistic Regression')\n",
    "print(\"Logistic Regression's Accuracy is: \", x)"
   ]
  },
  {
   "cell_type": "code",
   "execution_count": 45,
   "id": "a14ff021",
   "metadata": {},
   "outputs": [
    {
     "name": "stdout",
     "output_type": "stream",
     "text": [
      "Predicted Crop Type is : rice\n"
     ]
    },
    {
     "name": "stderr",
     "output_type": "stream",
     "text": [
      "C:\\Users\\SHUBHAM\\appdata\\local\\programs\\python\\python38\\lib\\site-packages\\sklearn\\base.py:445: UserWarning: X does not have valid feature names, but LogisticRegression was fitted with feature names\n",
      "  warnings.warn(\n",
      "C:\\Users\\SHUBHAM\\appdata\\local\\programs\\python\\python38\\lib\\site-packages\\sklearn\\base.py:561: FutureWarning: Arrays of bytes/strings is being converted to decimal numbers if dtype='numeric'. This behavior is deprecated in 0.24 and will be removed in 1.1 (renaming of 0.26). Please convert your data to numeric values explicitly instead.\n",
      "  X = check_array(X, **check_params)\n"
     ]
    }
   ],
   "source": [
    "# Check prediction with random observations.\n",
    "print('Predicted Crop Type is :',l[log_reg.predict([['90','42'\t,'43','20.879744',\t'82.002744',\t'6.502985','202.935536']])[0]])"
   ]
  },
  {
   "cell_type": "code",
   "execution_count": 46,
   "id": "4d31620a",
   "metadata": {},
   "outputs": [
    {
     "data": {
      "text/plain": [
       "SVC()"
      ]
     },
     "execution_count": 46,
     "metadata": {},
     "output_type": "execute_result"
    }
   ],
   "source": [
    "# Above we create logistic regression model and check its accuracy.Below we create another model Support Vector Machine\n",
    "\n",
    "# Classification Using SVM\n",
    "from sklearn.svm import SVC\n",
    "model = SVC()\n",
    "model.fit(X_train,y_train)"
   ]
  },
  {
   "cell_type": "code",
   "execution_count": 47,
   "id": "73de5355",
   "metadata": {},
   "outputs": [],
   "source": [
    "#Here in the above code, we are calling the Logistic Regression function and then we are trying to fit the model by-passing the trained values.\n",
    "\n",
    "predicted_val2 = model.predict(X_test)"
   ]
  },
  {
   "cell_type": "code",
   "execution_count": 48,
   "id": "5452b320",
   "metadata": {},
   "outputs": [
    {
     "name": "stdout",
     "output_type": "stream",
     "text": [
      "Support Vector Machine's Accuracy is:  0.9772727272727273\n"
     ]
    }
   ],
   "source": [
    "# Check accuracy of our model and aapend it int our accuracy and models list\n",
    "y = metrics.accuracy_score(y_test,predicted_val2)\n",
    "acc.append(y)\n",
    "models.append('Support Vector Machine')\n",
    "print(\"Support Vector Machine's Accuracy is: \", y)"
   ]
  },
  {
   "cell_type": "code",
   "execution_count": 49,
   "id": "c2127058",
   "metadata": {},
   "outputs": [
    {
     "data": {
      "text/plain": [
       "[0.9522727272727273, 0.9772727272727273]"
      ]
     },
     "execution_count": 49,
     "metadata": {},
     "output_type": "execute_result"
    }
   ],
   "source": [
    "# List contain accuracy of our models\n",
    "acc"
   ]
  },
  {
   "cell_type": "code",
   "execution_count": 50,
   "id": "a2173c2d",
   "metadata": {},
   "outputs": [
    {
     "data": {
      "text/plain": [
       "['Logistic Regression', 'Support Vector Machine']"
      ]
     },
     "execution_count": 50,
     "metadata": {},
     "output_type": "execute_result"
    }
   ],
   "source": [
    "# List contain Names of our models we used.\n",
    "models"
   ]
  },
  {
   "cell_type": "code",
   "execution_count": 51,
   "id": "57bc0a3d",
   "metadata": {},
   "outputs": [],
   "source": [
    "# Merge both liss into dictonary and name itas acc_dict\n",
    "acc_dict = {\n",
    "    'Models':models,\n",
    "    'Accuracy':acc\n",
    "}"
   ]
  },
  {
   "cell_type": "code",
   "execution_count": 52,
   "id": "3de884c1",
   "metadata": {},
   "outputs": [
    {
     "data": {
      "text/html": [
       "<div>\n",
       "<style scoped>\n",
       "    .dataframe tbody tr th:only-of-type {\n",
       "        vertical-align: middle;\n",
       "    }\n",
       "\n",
       "    .dataframe tbody tr th {\n",
       "        vertical-align: top;\n",
       "    }\n",
       "\n",
       "    .dataframe thead th {\n",
       "        text-align: right;\n",
       "    }\n",
       "</style>\n",
       "<table border=\"1\" class=\"dataframe\">\n",
       "  <thead>\n",
       "    <tr style=\"text-align: right;\">\n",
       "      <th></th>\n",
       "      <th>Models</th>\n",
       "      <th>Accuracy</th>\n",
       "    </tr>\n",
       "  </thead>\n",
       "  <tbody>\n",
       "    <tr>\n",
       "      <th>0</th>\n",
       "      <td>Logistic Regression</td>\n",
       "      <td>0.952273</td>\n",
       "    </tr>\n",
       "    <tr>\n",
       "      <th>1</th>\n",
       "      <td>Support Vector Machine</td>\n",
       "      <td>0.977273</td>\n",
       "    </tr>\n",
       "  </tbody>\n",
       "</table>\n",
       "</div>"
      ],
      "text/plain": [
       "                   Models  Accuracy\n",
       "0     Logistic Regression  0.952273\n",
       "1  Support Vector Machine  0.977273"
      ]
     },
     "execution_count": 52,
     "metadata": {},
     "output_type": "execute_result"
    }
   ],
   "source": [
    "# Create Dataframe of accuarcy of models and their respective names. So we can see clearly which models has more accuracy\n",
    "acc_df = pd.DataFrame(acc_dict)\n",
    "acc_df"
   ]
  },
  {
   "cell_type": "code",
   "execution_count": 53,
   "id": "57d99e5c",
   "metadata": {},
   "outputs": [
    {
     "name": "stderr",
     "output_type": "stream",
     "text": [
      "No artists with labels found to put in legend.  Note that artists whose label start with an underscore are ignored when legend() is called with no argument.\n"
     ]
    },
    {
     "data": {
      "image/png": "[encoded data removed]",
      "text/plain": [
       "<Figure size 432x288 with 1 Axes>"
      ]
     },
     "metadata": {
      "needs_background": "light"
     },
     "output_type": "display_data"
    }
   ],
   "source": [
    "# Plot of models and its accuracy\n",
    "plt.bar(acc_df['Models'],acc_df['Accuracy'])\n",
    "plt.xlabel('Models')\n",
    "plt.ylabel(\"Accuracy\")\n",
    "plt.title('Accuracy of Models')\n",
    "plt.legend();\n",
    "# Here we can observed that our SVM models has slightly higher accuracy than Logistic Regression model"
   ]
  },
  {
   "cell_type": "code",
   "execution_count": 54,
   "id": "8a0d3ae0",
   "metadata": {},
   "outputs": [],
   "source": [
    "# Saving SVM model into Pickle file to use in Our GUI\n",
    "import pickle\n",
    "with open('croppred.sav','wb') as f:\n",
    "    pickle.dump(model,f)"
   ]
  },
  {
   "cell_type": "code",
   "execution_count": null,
   "id": "d82a43a1",
   "metadata": {},
   "outputs": [],
   "source": []
  }
 ],
 "metadata": {
  "kernelspec": {
   "display_name": "Python 3 (ipykernel)",
   "language": "python",
   "name": "python3"
  },
  "language_info": {
   "codemirror_mode": {
    "name": "ipython",
    "version": 3
   },
   "file_extension": ".py",
   "mimetype": "text/x-python",
   "name": "python",
   "nbconvert_exporter": "python",
   "pygments_lexer": "ipython3",
   "version": "3.8.6"
  }
 },
 "nbformat": 4,
 "nbformat_minor": 5
}
